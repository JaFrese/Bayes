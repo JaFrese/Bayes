{
 "cells": [
  {
   "cell_type": "markdown",
   "id": "d5f74392",
   "metadata": {},
   "source": [
    "# First Project \n",
    "\n",
    "## Authors: Jan Frese and Bruno Picasso\n",
    "\n",
    "### For this project, we chose the \"Insurance\" dataset. This base contains an amount of observations about the medical insurance costs from 1400 patients approximately.\n",
    "\n",
    "### The main objective to model is to know is if the charges of the patients are related to the bmi and his age, where \"charges\" is the dependent variable while \"bmi\" and \"age\" are the independent variables. These variables where chosen, because it's interesting to know if younger or older patients have higher or lower charges in their medical insurance. It could be also interesting to know if their body mass index is related to this variable (charges)."
   ]
  },
  {
   "cell_type": "code",
   "execution_count": 4,
   "id": "3c981318",
   "metadata": {},
   "outputs": [],
   "source": [
    "import pystan\n",
    "import pandas as pd\n",
    "import arviz \n",
    "import numpy as np"
   ]
  },
  {
   "cell_type": "code",
   "execution_count": 5,
   "id": "fb86e019",
   "metadata": {
    "scrolled": false
   },
   "outputs": [
    {
     "data": {
      "text/html": [
       "<div>\n",
       "<style scoped>\n",
       "    .dataframe tbody tr th:only-of-type {\n",
       "        vertical-align: middle;\n",
       "    }\n",
       "\n",
       "    .dataframe tbody tr th {\n",
       "        vertical-align: top;\n",
       "    }\n",
       "\n",
       "    .dataframe thead th {\n",
       "        text-align: right;\n",
       "    }\n",
       "</style>\n",
       "<table border=\"1\" class=\"dataframe\">\n",
       "  <thead>\n",
       "    <tr style=\"text-align: right;\">\n",
       "      <th></th>\n",
       "      <th>age</th>\n",
       "      <th>sex</th>\n",
       "      <th>bmi</th>\n",
       "      <th>children</th>\n",
       "      <th>smoker</th>\n",
       "      <th>region</th>\n",
       "      <th>charges</th>\n",
       "    </tr>\n",
       "  </thead>\n",
       "  <tbody>\n",
       "    <tr>\n",
       "      <th>0</th>\n",
       "      <td>19</td>\n",
       "      <td>female</td>\n",
       "      <td>27.900</td>\n",
       "      <td>0</td>\n",
       "      <td>yes</td>\n",
       "      <td>southwest</td>\n",
       "      <td>16884.92400</td>\n",
       "    </tr>\n",
       "    <tr>\n",
       "      <th>1</th>\n",
       "      <td>18</td>\n",
       "      <td>male</td>\n",
       "      <td>33.770</td>\n",
       "      <td>1</td>\n",
       "      <td>no</td>\n",
       "      <td>southeast</td>\n",
       "      <td>1725.55230</td>\n",
       "    </tr>\n",
       "    <tr>\n",
       "      <th>2</th>\n",
       "      <td>28</td>\n",
       "      <td>male</td>\n",
       "      <td>33.000</td>\n",
       "      <td>3</td>\n",
       "      <td>no</td>\n",
       "      <td>southeast</td>\n",
       "      <td>4449.46200</td>\n",
       "    </tr>\n",
       "    <tr>\n",
       "      <th>3</th>\n",
       "      <td>33</td>\n",
       "      <td>male</td>\n",
       "      <td>22.705</td>\n",
       "      <td>0</td>\n",
       "      <td>no</td>\n",
       "      <td>northwest</td>\n",
       "      <td>21984.47061</td>\n",
       "    </tr>\n",
       "    <tr>\n",
       "      <th>4</th>\n",
       "      <td>32</td>\n",
       "      <td>male</td>\n",
       "      <td>28.880</td>\n",
       "      <td>0</td>\n",
       "      <td>no</td>\n",
       "      <td>northwest</td>\n",
       "      <td>3866.85520</td>\n",
       "    </tr>\n",
       "  </tbody>\n",
       "</table>\n",
       "</div>"
      ],
      "text/plain": [
       "   age     sex     bmi  children smoker     region      charges\n",
       "0   19  female  27.900         0    yes  southwest  16884.92400\n",
       "1   18    male  33.770         1     no  southeast   1725.55230\n",
       "2   28    male  33.000         3     no  southeast   4449.46200\n",
       "3   33    male  22.705         0     no  northwest  21984.47061\n",
       "4   32    male  28.880         0     no  northwest   3866.85520"
      ]
     },
     "execution_count": 5,
     "metadata": {},
     "output_type": "execute_result"
    }
   ],
   "source": [
    "datos  = pd.read_csv(\"insurance.csv\")\n",
    "\n",
    "# dependent variable:charge y independt variables: sex and smoker\n",
    "datos.head()\n",
    "#len(datos)"
   ]
  },
  {
   "cell_type": "code",
   "execution_count": 3,
   "id": "3d2bfc25",
   "metadata": {},
   "outputs": [
    {
     "name": "stdout",
     "output_type": "stream",
     "text": [
      "The minimum is: 18 and the maximum is: 64\n"
     ]
    },
    {
     "data": {
      "image/png": "[encoded data removed]",
      "text/plain": [
       "<Figure size 432x288 with 1 Axes>"
      ]
     },
     "metadata": {
      "needs_background": "light"
     },
     "output_type": "display_data"
    }
   ],
   "source": [
    "# graficos bmi, age, charge\n",
    "datos[\"age\"].plot.hist(bins=50)\n",
    "# aprox uniform\n",
    "mx = max(datos[\"age\"])\n",
    "mn = min(datos[\"age\"])\n",
    "print(f\"The minimum is: {mn} and the maximum is: {mx}\")"
   ]
  },
  {
   "cell_type": "code",
   "execution_count": 4,
   "id": "d406eae6",
   "metadata": {},
   "outputs": [
    {
     "name": "stdout",
     "output_type": "stream",
     "text": [
      "The mean is: 31.0 and the standard deviation is: 6.0\n"
     ]
    },
    {
     "data": {
      "image/png": "[encoded data removed]",
      "text/plain": [
       "<Figure size 432x288 with 1 Axes>"
      ]
     },
     "metadata": {
      "needs_background": "light"
     },
     "output_type": "display_data"
    }
   ],
   "source": [
    "datos[\"bmi\"].plot.hist(bins=50)\n",
    "# aprox normal\n",
    "u = np.mean(datos[\"bmi\"]).round()\n",
    "s = np.std(datos[\"bmi\"]).round()\n",
    "print(f\"The mean is: {u} and the standard deviation is: {s}\")"
   ]
  },
  {
   "cell_type": "code",
   "execution_count": 7,
   "id": "f22e5e53",
   "metadata": {},
   "outputs": [
    {
     "data": {
      "text/plain": [
       "13270.0"
      ]
     },
     "execution_count": 7,
     "metadata": {},
     "output_type": "execute_result"
    },
    {
     "data": {
      "image/png": "[encoded data removed]",
      "text/plain": [
       "<Figure size 432x288 with 1 Axes>"
      ]
     },
     "metadata": {
      "needs_background": "light"
     },
     "output_type": "display_data"
    }
   ],
   "source": [
    "datos[\"charges\"].plot.hist(bins=50)\n",
    "# aprox chi-squared\n",
    "np.mean(datos[\"charges\"]).round()"
   ]
  },
  {
   "cell_type": "markdown",
   "id": "cae08354",
   "metadata": {},
   "source": [
    "### To describe the chosen dataset, it is important to know that it has 1338 observations with 7 variables, which are the age of the patient, their gender, their bmi, how many children they have, if they smoke, their region and their amount of charges. Two of the seven variables could be considered as binary, which are \"sex\" (male or female) and smoker (yes or no). The age of the patients, their bmi, their number of children and their charges can be considered as numerical, while their region could be considered as a factor variable.\n",
    "\n",
    "### Now, we will show more specific parameters and distributions referring to the variables to evaluate.\n",
    "\n",
    "### As we can see, the first histogram refers to the age of the patients. It can be considered as a uniform distribution or a quassiuniform, because all the parameters stay constant (except for the age of 20). The minimum value is the age of 18 and their maximum is 64.\n",
    "\n",
    "### Related to the second histogram, which refers to the bmi, we can see that their distribution is approximately normal, with some outliers in the 50 value. The mean of this variable is 31 approximately and their standard deviation is 6 approximately.\n",
    "\n",
    "### Finally, it is important to explain that the third histogram refers to the dependent variable named \"charges\". In this histogram we can see that most of the values are between 0 and 15.000 approximately. Due to this amount of values, we can see that the mean of this variable is 13.270 approximately. "
   ]
  },
  {
   "cell_type": "code",
   "execution_count": 11,
   "id": "1b063824",
   "metadata": {},
   "outputs": [],
   "source": [
    "import matplotlib.pyplot as plt\n",
    "import seaborn as sns\n",
    "import numpy as np\n",
    "\n",
    "sns.set()  \n",
    "np.random.seed(101)\n",
    "\n",
    "model = \"\"\"\n",
    "data {\n",
    "    int<lower=0> N;\n",
    "    vector[N] x;\n",
    "    vector[N] y;\n",
    "    vector[N] z;\n",
    "}\n",
    "parameters {\n",
    "    real alpha;\n",
    "    real beta;\n",
    "    real gamma;\n",
    "    real<lower=0> sigma;\n",
    "}\n",
    "model {\n",
    "    z ~ uniform(18,80);\n",
    "    x ~ normal(31,6);\n",
    "    sigma ~ normal(0,1);\n",
    "    \n",
    "    y ~ normal(alpha + beta * x + gamma * z, sigma);  \n",
    "}\n",
    "\"\"\"\n"
   ]
  },
  {
   "cell_type": "markdown",
   "id": "18a07f66",
   "metadata": {},
   "source": [
    "### For the definition of the model, we considered three variables (as we explained before): charges, age and bmi. The two independent variables (age and bmi) were named as X and Z. The \"X\" variable has a normal distribution with parameters 18 and 64 (minimum and maximum), while the \"Z\" variable has a uniform distribution with parameters 31 and 6 (mean and standard deviation).\n",
    "\n",
    "### For the prior analysis, we thought that the independent variables where following a normal distribution, but when we analyzed them, we concluded that bmi where following a normal distribution and the age of the patients where following a uniform distribution.\n",
    "\n",
    "### It is relevant to explain that this two distributions with their parameters where chosen by the histograms that their reflect.\n",
    "\n",
    "### Also, the model where defined with a non negative condition, so the model adapts better for the observations and to minimize the errors of the model.\n",
    "\n",
    "### We set a seed with random values, so the model could fit with the given values of the dataset.\n",
    "\n",
    "### Finally, it is important to say that the dependent variable (charges) where defined as an \"Y\" variable, that is composed of the X and Z variables, with their respective parameters, that are beta for X, gamma for Z, alpha as an intercept and sigma for Y. "
   ]
  },
  {
   "cell_type": "code",
   "execution_count": 12,
   "id": "47e3cf75",
   "metadata": {},
   "outputs": [],
   "source": [
    "# Parameters to be inferred\n",
    "alpha = 4.0\n",
    "beta = 0.5\n",
    "sigma = 1.0\n",
    "\n",
    "\n",
    "# Generate and plot data\n",
    "x = datos['bmi']\n",
    "z = datos['age']\n",
    "y = alpha + beta * x + sigma * z\n",
    "y = datos['charges']"
   ]
  },
  {
   "cell_type": "code",
   "execution_count": 13,
   "id": "ae402593",
   "metadata": {},
   "outputs": [
    {
     "name": "stderr",
     "output_type": "stream",
     "text": [
      "INFO:pystan:COMPILING THE C++ CODE FOR MODEL anon_model_89dbc546171c996d3e2c2663619f0354 NOW.\n"
     ]
    }
   ],
   "source": [
    "# Put our data in a dictionary\n",
    "data = {'N': len(y), 'x': x, 'y': y, 'z':z}\n",
    "\n",
    "# Compile the model\n",
    "sm = pystan.StanModel(model_code=model)\n",
    "\n",
    "# Train the model and generate samples\n",
    "fit = sm.sampling(data=data, iter=1000, chains=4, warmup=500, thin=1, seed=101)"
   ]
  },
  {
   "cell_type": "code",
   "execution_count": 8,
   "id": "bab62735",
   "metadata": {},
   "outputs": [
    {
     "name": "stdout",
     "output_type": "stream",
     "text": [
      "Inference for Stan model: anon_model_89dbc546171c996d3e2c2663619f0354.\n",
      "4 chains, each with iter=1000; warmup=500; thin=1; \n",
      "post-warmup draws per chain=500, total post-warmup draws=2000.\n",
      "\n",
      "        mean se_mean     sd   2.5%    25%    50%    75%  97.5%  n_eff   Rhat\n",
      "alpha  -6516   59.67 1771.1 -1.0e4  -7681  -6416  -5352  -3196    881    1.0\n",
      "beta  335.54    1.57  51.65 237.19 300.44 334.13 371.84 436.11   1076    1.0\n",
      "gamma 242.48    0.67  22.76 198.89  227.7 242.21  257.0 291.36   1138    1.0\n",
      "sigma  1.1e4    5.38 216.82  1.1e4  1.1e4  1.1e4  1.2e4  1.2e4   1625    1.0\n",
      "lp__  -1.3e4    0.05   1.46 -1.3e4 -1.3e4 -1.3e4 -1.3e4 -1.3e4    713    1.0\n",
      "\n",
      "Samples were drawn using NUTS at Tue Apr 26 22:03:46 2022.\n",
      "For each parameter, n_eff is a crude measure of effective sample size,\n",
      "and Rhat is the potential scale reduction factor on split chains (at \n",
      "convergence, Rhat=1).\n"
     ]
    }
   ],
   "source": [
    "print(fit.stansummary())"
   ]
  },
  {
   "cell_type": "markdown",
   "id": "d70c942f",
   "metadata": {},
   "source": [
    "### As we can see in the fitted summary from the defined model, the mean of the coefficients are -6.516 for alpha, 335,54 for beta, 242,48 for gamma, 11.000 for sigma and his lp__ is -13.000. This means that the proposed model is not very good to predict the dependent variable named \"charges\".\n",
    "### We can interpretate this values as this:\n",
    "#### Charges ~ Normal(-6.516 + 335,54 * bmi + 242,48 * age, 10.000)\n",
    "\n",
    "\n",
    "### Due that every Rhats are 1, we can conclude that this potential scale reduction on split chains are practically 100% convergible with the defined model.\n",
    "\n",
    "### Also, we have the standard deviation of this parameters, which are 1.771,1 for alpha, 51,65 for beta, 22,76 for gamma, 216,83 for sigma and 1,46 for lp__.\n",
    "\n",
    "### The n_eff of the parameters are all higher than 700, which means that the sample size of the parameters must be over 700.\n",
    "\n",
    "### Finally, the se_mean for each parameter are lower than 5, in exception for alpha, which is 59,67. That means that this parameter has a higher deviation than the rest."
   ]
  },
  {
   "cell_type": "code",
   "execution_count": 12,
   "id": "1e428ab9",
   "metadata": {},
   "outputs": [
    {
     "name": "stderr",
     "output_type": "stream",
     "text": [
      "WARNING:pystan:Deprecation warning. PyStan plotting deprecated, use ArviZ library (Python 3.5+). `pip install arviz`; `arviz.plot_trace(fit)`)\n"
     ]
    },
    {
     "data": {
      "image/png": "[encoded data removed]",
      "text/plain": [
       "<Figure size 432x288 with 8 Axes>"
      ]
     },
     "metadata": {},
     "output_type": "display_data"
    }
   ],
   "source": [
    "fit.plot(['gamma', \"beta\", \"sigma\", \"alpha\"]);\n",
    "plt.tight_layout()"
   ]
  },
  {
   "cell_type": "markdown",
   "id": "03921931",
   "metadata": {},
   "source": [
    "### Related to the graphics that are above this explanation, it is important to say that the 4 parameters have a normal distribution and the series of plots are exhibing “thick-haired” chains oscillating, that means a “reasonably-sized” interval in the real line to indicate good mixing."
   ]
  }
 ],
 "metadata": {
  "kernelspec": {
   "display_name": "Python 3 (ipykernel)",
   "language": "python",
   "name": "python3"
  },
  "language_info": {
   "codemirror_mode": {
    "name": "ipython",
    "version": 3
   },
   "file_extension": ".py",
   "mimetype": "text/x-python",
   "name": "python",
   "nbconvert_exporter": "python",
   "pygments_lexer": "ipython3",
   "version": "3.9.11"
  }
 },
 "nbformat": 4,
 "nbformat_minor": 5
}
